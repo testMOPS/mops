{
 "cells": [
  {
   "cell_type": "markdown",
   "metadata": {},
   "source": [
    "## Calculate the fill factor for an LSST field of view.\n",
    "\n",
    "Uses the camera geometry that is intended to represent the actual focal plane (or at least, one vendor's version of the focal plane geometry). \n"
   ]
  },
  {
   "cell_type": "code",
   "execution_count": 2,
   "metadata": {
    "collapsed": false
   },
   "outputs": [],
   "source": [
    "import numpy as np\n",
    "import matplotlib.pyplot as plt\n",
    "%matplotlib inline\n",
    "import itertools\n",
    "\n",
    "# For the footprint generation and conversion between galactic/equatorial coordinates.\n",
    "from lsst.sims.utils import haversine, ObservationMetaData\n",
    "from lsst.obs.lsstSim import LsstSimMapper\n",
    "from lsst.sims.coordUtils import _observedFromICRS, _chipNameFromRaDec\n",
    "\n",
    "import lsst.sims.utils as sims_utils\n",
    "\n",
    "mapper = LsstSimMapper()\n",
    "camera = mapper.camera\n",
    "epoch = 2000.0\n",
    "site = sims_utils.Site()"
   ]
  },
  {
   "cell_type": "code",
   "execution_count": 3,
   "metadata": {
    "collapsed": false
   },
   "outputs": [
    {
     "name": "stdout",
     "output_type": "stream",
     "text": [
      "60.3333143125\n"
     ]
    }
   ],
   "source": [
    "# Set up the observation metadata (boresight + time + rotator angle.)\n",
    "fieldra = np.radians(10.0)\n",
    "fielddec = np.radians(-0.0)\n",
    "expmjd = 52999.96\n",
    "alt, az, pa = sims_utils._altAzPaFromRaDec(fieldra, fielddec, site.longitude, site.latitude, expmjd)\n",
    "print np.degrees(alt)"
   ]
  },
  {
   "cell_type": "code",
   "execution_count": 4,
   "metadata": {
    "collapsed": false
   },
   "outputs": [],
   "source": [
    "rotskypos = np.radians(0.0)\n",
    "obs_metadata = ObservationMetaData(unrefractedRA = np.degrees(fieldra),\n",
    "                                   unrefractedDec = np.degrees(fielddec),\n",
    "                                   rotSkyPos = np.degrees(rotskypos),\n",
    "                                   mjd = expmjd)"
   ]
  },
  {
   "cell_type": "code",
   "execution_count": 5,
   "metadata": {
    "collapsed": false
   },
   "outputs": [],
   "source": [
    "# Set up points to iterate over (to calculate fill factor)\n",
    "testrange = 2.2\n",
    "spacing = 0.01\n",
    "decscale = np.cos(fielddec)\n",
    "rai = np.arange(fieldra - np.radians(testrange)*decscale, \n",
    "                fieldra + np.radians(testrange)*decscale, np.radians(spacing)*decscale)\n",
    "deci = np.arange(fielddec - np.radians(testrange), \n",
    "                 fielddec + np.radians(testrange), np.radians(spacing))\n",
    "ra = []\n",
    "dec = []\n",
    "for i in itertools.product(rai, deci):\n",
    "    ra.append(i[0])\n",
    "    dec.append(i[1])\n",
    "ra = np.array(ra)\n",
    "dec = np.array(dec)"
   ]
  },
  {
   "cell_type": "code",
   "execution_count": 7,
   "metadata": {
    "collapsed": false
   },
   "outputs": [],
   "source": [
    "# Calculate 'visibility'\n",
    "refractedra, refracteddec = _observedFromICRS(ra, dec, obs_metadata=obs_metadata, epoch=epoch)\n",
    "chipNames = _chipNameFromRaDec(ra=refractedra, dec=refracteddec, epoch=epoch, \n",
    "                                camera=camera, obs_metadata=obs_metadata)\n",
    "vis = np.zeros(len(chipNames))\n",
    "for i, chip in enumerate(chipNames):\n",
    "    if chip is not None:\n",
    "        vis[i] = 1"
   ]
  },
  {
   "cell_type": "code",
   "execution_count": 8,
   "metadata": {
    "collapsed": false
   },
   "outputs": [
    {
     "name": "stdout",
     "output_type": "stream",
     "text": [
      "radius matching area_degsq for circle 1.74807748895\n",
      "max distance from center used for chip calculation 3.11088748063\n",
      "fill factor 0.894944633686\n"
     ]
    }
   ],
   "source": [
    "# Calculate % fill factor, for a particular assumed (circular) fov\n",
    "area_degsq = 9.6\n",
    "radius = np.sqrt(area_degsq/np.pi)\n",
    "print 'radius matching area_degsq for circle', radius\n",
    "sep = np.degrees(sims_utils.haversine(ra, dec, fieldra, fielddec))\n",
    "print 'max distance from center used for chip calculation', sep.max()\n",
    "incircle = np.where(sep < radius)[0]\n",
    "onchip = np.where(vis[incircle] == 1)[0]\n",
    "fillfactor = len(vis[onchip]) / float(len(vis[incircle]))\n",
    "print 'fill factor', fillfactor"
   ]
  },
  {
   "cell_type": "code",
   "execution_count": 9,
   "metadata": {
    "collapsed": false,
    "scrolled": false
   },
   "outputs": [
    {
     "data": {
      "text/plain": [
       "(-2.33316561047201, 2.33316561047201)"
      ]
     },
     "execution_count": 9,
     "metadata": {},
     "output_type": "execute_result"
    },
    {
     "data": {
      "image/png": "[encoded data removed]",
      "text/plain": [
       "<matplotlib.figure.Figure at 0x11b52de50>"
      ]
     },
     "metadata": {},
     "output_type": "display_data"
    }
   ],
   "source": [
    "# Plot results.\n",
    "plt.figure()\n",
    "plt.axis('equal')\n",
    "condition = np.where(vis == 1)[0]\n",
    "# Use 'offset' so that plot doesn't cross 0\n",
    "offset = 0\n",
    "plt.plot((np.degrees(ra)+offset)%360, np.degrees(dec), 'g.', markersize=0.2)\n",
    "plt.plot((np.degrees(ra[condition])+offset)%360, np.degrees(dec[condition]), 'b.', markersize=0.3)\n",
    "plt.plot(np.degrees(fieldra)+offset, np.degrees(fielddec), 'r.')\n",
    "plt.xlabel('RA')\n",
    "plt.ylabel('Dec')\n",
    "theta = np.arange(0, 2*np.pi, 0.01)\n",
    "plt.plot(radius*np.cos(theta)+np.degrees(fieldra)+offset, radius*np.sin(theta)+np.degrees(fielddec), 'r-')\n",
    "outerradius = 2.06\n",
    "plt.plot(outerradius*np.cos(theta)+np.degrees(fieldra)+offset, outerradius*np.sin(theta)+np.degrees(fielddec), 'r:')\n",
    "#plt.xlim(fieldra+offset-sep.max()/2.0, fieldra+offset+sep.max()/2.0)\n",
    "plt.ylim(np.degrees(fielddec)-sep.max()*.75, np.degrees(fielddec)+sep.max()*.75)"
   ]
  },
  {
   "cell_type": "code",
   "execution_count": 11,
   "metadata": {
    "collapsed": false
   },
   "outputs": [],
   "source": [
    "# zoom in to see a raft (ccd = 13', raft = 13*3 ' = 0.6 deg) in higher detail.\n",
    "testrange = 0.5\n",
    "spacing = 0.001\n",
    "decscale = np.cos(fielddec)\n",
    "rai = np.arange(fieldra - np.radians(testrange)*decscale, \n",
    "                fieldra + np.radians(testrange)*decscale, np.radians(spacing)*decscale)\n",
    "deci = np.arange(fielddec - np.radians(testrange), \n",
    "                 fielddec + np.radians(testrange), np.radians(spacing))\n",
    "ra = []\n",
    "dec = []\n",
    "for i in itertools.product(rai, deci):\n",
    "    ra.append(i[0])\n",
    "    dec.append(i[1])\n",
    "ra = np.array(ra)\n",
    "dec = np.array(dec)\n",
    "\n",
    "# Calculate 'visibility'\n",
    "refractedra, refracteddec = _observedFromICRS(ra, dec, obs_metadata=obs_metadata, epoch=epoch)\n",
    "chipNames = _chipNameFromRaDec(ra=refractedra, dec=refracteddec, epoch=epoch, camera=camera, obs_metadata=obs_metadata)\n",
    "vis = np.zeros(len(chipNames))\n",
    "for i, chip in enumerate(chipNames):\n",
    "    if chip is not None:\n",
    "        vis[i] = 1"
   ]
  },
  {
   "cell_type": "code",
   "execution_count": 12,
   "metadata": {
    "collapsed": false
   },
   "outputs": [
    {
     "data": {
      "text/plain": [
       "(-0.5, 0.5)"
      ]
     },
     "execution_count": 12,
     "metadata": {},
     "output_type": "execute_result"
    },
    {
     "data": {
      "image/png": "[encoded data removed]",
      "text/plain": [
       "<matplotlib.figure.Figure at 0x11b5cb310>"
      ]
     },
     "metadata": {},
     "output_type": "display_data"
    }
   ],
   "source": [
    "plt.figure()\n",
    "plt.axis('equal')\n",
    "condition = np.where(vis == 1)[0]\n",
    "# Use 'offset' so that plot doesn't cross 0\n",
    "offset = 0\n",
    "plt.plot((np.degrees(ra)+offset)%360, np.degrees(dec), 'g.', markersize=0.2)\n",
    "plt.plot((np.degrees(ra[condition])+offset)%360, np.degrees(dec[condition]), 'b.', markersize=0.3)\n",
    "plt.plot(np.degrees(fieldra)+offset, np.degrees(fielddec), 'r.')\n",
    "plt.xlabel('RA')\n",
    "plt.ylabel('Dec')\n",
    "plt.xlim(9.5, 10.5)\n",
    "plt.ylim(-.5, 0.5)"
   ]
  },
  {
   "cell_type": "code",
   "execution_count": 14,
   "metadata": {
    "collapsed": false
   },
   "outputs": [],
   "source": [
    "# And zoom in even more, to check raft/ccd spacing. Do single line in RA.\n",
    "testrange = 2.0\n",
    "spacing = 0.00005\n",
    "decscale = np.cos(fielddec)\n",
    "ra = np.arange(fieldra - np.radians(testrange)*decscale, \n",
    "                fieldra + np.radians(testrange)*decscale, np.radians(spacing)*decscale)\n",
    "dec = np.zeros(len(ra)) + fielddec\n",
    "\n",
    "# Calculate 'visibility'\n",
    "refractedra, refracteddec = _observedFromICRS(ra, dec, obs_metadata=obs_metadata, epoch=epoch)\n",
    "chipNames = _chipNameFromRaDec(ra=refractedra, dec=refracteddec, epoch=epoch, camera=camera, obs_metadata=obs_metadata)\n",
    "vis = np.zeros(len(chipNames))\n",
    "for i, chip in enumerate(chipNames):\n",
    "    if chip is not None:\n",
    "        vis[i] = 1"
   ]
  },
  {
   "cell_type": "code",
   "execution_count": 15,
   "metadata": {
    "collapsed": false
   },
   "outputs": [
    {
     "name": "stdout",
     "output_type": "stream",
     "text": [
      "[ 797.58000001   44.1         798.12000001   45.36        798.84000001\n",
      "   49.68        799.38000001   44.28        799.74000001   43.92\n",
      "  799.92000001   51.3         799.92000001   44.82        799.92000001\n",
      "   44.82        800.10000001   50.22        799.92000001   44.82\n",
      "  799.74000001   43.74        799.38000001   49.86        798.84000001\n",
      "   46.08        798.30000001   43.92        797.58000001]\n"
     ]
    },
    {
     "data": {
      "image/png": "[encoded data removed]",
      "text/plain": [
       "<matplotlib.figure.Figure at 0x11b55cf90>"
      ]
     },
     "metadata": {},
     "output_type": "display_data"
    }
   ],
   "source": [
    "plt.plot(ra, vis)\n",
    "condition = np.where(np.diff(vis) != 0)[0]\n",
    "print np.diff(np.degrees(ra[condition])*60.*60.)"
   ]
  },
  {
   "cell_type": "code",
   "execution_count": 16,
   "metadata": {
    "collapsed": true
   },
   "outputs": [],
   "source": [
    "# I need to map the overall visibility back into a 100x100 grid for Peter."
   ]
  },
  {
   "cell_type": "code",
   "execution_count": null,
   "metadata": {
    "collapsed": true
   },
   "outputs": [],
   "source": []
  }
 ],
 "metadata": {
  "kernelspec": {
   "display_name": "Python 2",
   "language": "python",
   "name": "python2"
  },
  "language_info": {
   "codemirror_mode": {
    "name": "ipython",
    "version": 2
   },
   "file_extension": ".py",
   "mimetype": "text/x-python",
   "name": "python",
   "nbconvert_exporter": "python",
   "pygments_lexer": "ipython2",
   "version": "2.7.10"
  }
 },
 "nbformat": 4,
 "nbformat_minor": 0
}
